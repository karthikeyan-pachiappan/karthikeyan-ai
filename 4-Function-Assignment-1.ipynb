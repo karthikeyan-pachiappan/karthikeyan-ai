{
 "cells": [
  {
   "cell_type": "code",
   "execution_count": 1,
   "id": "58065468-706e-4966-9320-f89b11a524f8",
   "metadata": {},
   "outputs": [],
   "source": [
    "# Create a class and function, and list out the items in the list\n",
    "\n",
    "class SubfieldsInAI:\n",
    "    def Subfields():\n",
    "        print(\"Sub-fields in AI are:\\nMachine Learning\\nNeural Networks\\nVision\\nRobotics\\nSpeech Processing\\nNatural Language Processing\")\n",
    "        \n"
   ]
  },
  {
   "cell_type": "code",
   "execution_count": 2,
   "id": "568882a6-57b9-4d89-b54c-9fe484470493",
   "metadata": {},
   "outputs": [
    {
     "name": "stdout",
     "output_type": "stream",
     "text": [
      "Sub-fields in AI are:\n",
      "Machine Learning\n",
      "Neural Networks\n",
      "Vision\n",
      "Robotics\n",
      "Speech Processing\n",
      "Natural Language Processing\n"
     ]
    }
   ],
   "source": [
    "SubfieldsInAI.Subfields()"
   ]
  },
  {
   "cell_type": "code",
   "execution_count": 3,
   "id": "54142fcb-ca1a-41e9-b534-64ada1bce808",
   "metadata": {},
   "outputs": [],
   "source": [
    "# Create a function that checks whether the given number is Odd or Even\n",
    "def OddEven():\n",
    "    num=int(input(\"Enter a number:\"))\n",
    "    if(num % 2 == 0):\n",
    "        print(num,\"is Even number\")\n",
    "    else:\n",
    "        print(num,\"is Odd number\")\n",
    "        "
   ]
  },
  {
   "cell_type": "code",
   "execution_count": 5,
   "id": "bff1bcf6-e76f-45de-93a5-83ae57e60bb4",
   "metadata": {},
   "outputs": [
    {
     "name": "stdin",
     "output_type": "stream",
     "text": [
      "Enter a number: 52452\n"
     ]
    },
    {
     "name": "stdout",
     "output_type": "stream",
     "text": [
      "52452 is Even number\n"
     ]
    }
   ],
   "source": [
    "OddEven()\n",
    "\n"
   ]
  },
  {
   "cell_type": "code",
   "execution_count": null,
   "id": "91de0982-fa53-4c4b-94af-32d7fc1f93bc",
   "metadata": {},
   "outputs": [],
   "source": [
    "# Create a function that tells elegibility of marriage for male and female according to their age limit like 21 for male and 18 for female"
   ]
  },
  {
   "cell_type": "code",
   "execution_count": 9,
   "id": "99909f3a-be77-4b4b-a50c-bbb1ca74cabe",
   "metadata": {},
   "outputs": [],
   "source": [
    "def ElegiblityForMarriage():\n",
    "    \n",
    "    gender=input(\"Your Gender :\")\n",
    "    age=int(input(\"Your Age :\"))\n",
    "    if(gender == \"Male\" and age >=21):\n",
    "        print(\"ElIGIBLE\")\n",
    "    elif(gender == \"Female\" and age >=18):\n",
    "        print(\"ELIGIBLE\")\n",
    "    else:\n",
    "        print(\"NOT ELIGIBLE\")\n",
    "    "
   ]
  },
  {
   "cell_type": "code",
   "execution_count": 10,
   "id": "692b3921-92d3-4323-9d7a-2ea5a3a755f2",
   "metadata": {},
   "outputs": [
    {
     "name": "stdin",
     "output_type": "stream",
     "text": [
      "Your Gender : Male\n",
      "Your Age : 20\n"
     ]
    },
    {
     "name": "stdout",
     "output_type": "stream",
     "text": [
      "NOT ELIGIBLE\n"
     ]
    }
   ],
   "source": [
    "ElegiblityForMarriage()"
   ]
  },
  {
   "cell_type": "code",
   "execution_count": 15,
   "id": "e53042f5-c95c-4731-b842-3c760b0b8a6e",
   "metadata": {},
   "outputs": [],
   "source": [
    "def findpercentage():\n",
    "    sub1=int(input(\"Subject1=\"))\n",
    "    sub2=int(input(\"Subject2=\"))\n",
    "    sub3=int(input(\"Subject3=\"))\n",
    "    sub4=int(input(\"Subject4=\"))\n",
    "    sub5=int(input(\"Subject5=\"))\n",
    "    Total=sub1+sub2+sub3+sub4+sub5\n",
    "    print(\"Total : \",Total)\n",
    "    Percentage=float(Total/5)\n",
    "    print(\"Percentage : \" ,Percentage)\n",
    "        \n",
    "    "
   ]
  },
  {
   "cell_type": "code",
   "execution_count": 16,
   "id": "f53fca22-2e43-43b3-a475-b41d3b83e426",
   "metadata": {},
   "outputs": [
    {
     "name": "stdin",
     "output_type": "stream",
     "text": [
      "Subject1= 98\n",
      "Subject2= 87\n",
      "Subject3= 95\n",
      "Subject4= 95\n",
      "Subject5= 93\n"
     ]
    },
    {
     "name": "stdout",
     "output_type": "stream",
     "text": [
      "Total :  468\n",
      "Percentage :  93.6\n"
     ]
    }
   ],
   "source": [
    "findpercentage()\n"
   ]
  },
  {
   "cell_type": "code",
   "execution_count": 17,
   "id": "f9088a6e-a2e1-4dc1-be69-18063936f6a5",
   "metadata": {},
   "outputs": [],
   "source": [
    "def triangle():\n",
    "    height=int(input(\"Height:\"))\n",
    "    breadth=int(input(\"Breadth:\"))\n",
    "    print(\"Area formula: (Height*Breadth)/2\")\n",
    "    at=(height*breadth)/2\n",
    "    print (\"Area of Triangle:\",at)\n",
    "    height1=int(input(\"Height1:\"))\n",
    "    height2=int(input(\"Height2:\"))\n",
    "    breadth1=int(input(\"Breadth:\"))\n",
    "    print(\"Perimeter formula: Height1+Height2+Breadth\")\n",
    "    pt=height1+height2+breadth1\n",
    "    print(\"Perimeter of Triangle:\",pt)"
   ]
  },
  {
   "cell_type": "code",
   "execution_count": 18,
   "id": "c5dbda46-c4a4-41ec-9c0c-227e0d91ebba",
   "metadata": {},
   "outputs": [
    {
     "name": "stdin",
     "output_type": "stream",
     "text": [
      "Height: 32\n",
      "Breadth: 34\n"
     ]
    },
    {
     "name": "stdout",
     "output_type": "stream",
     "text": [
      "Area formula: (Height*Breadth)/2\n",
      "Area of Triangle: 544.0\n"
     ]
    },
    {
     "name": "stdin",
     "output_type": "stream",
     "text": [
      "Height1: 2\n",
      "Height2: 4\n",
      "Breadth: 4\n"
     ]
    },
    {
     "name": "stdout",
     "output_type": "stream",
     "text": [
      "Perimeter formula: Height1+Height2+Breadth\n",
      "Perimeter of Triangle: 10\n"
     ]
    }
   ],
   "source": [
    "triangle()"
   ]
  },
  {
   "cell_type": "code",
   "execution_count": null,
   "id": "07969cb6-d560-4358-afc7-0e401c621217",
   "metadata": {},
   "outputs": [],
   "source": []
  },
  {
   "cell_type": "code",
   "execution_count": null,
   "id": "9f6ba653-b833-4881-85ce-7741bccafff4",
   "metadata": {},
   "outputs": [],
   "source": []
  },
  {
   "cell_type": "code",
   "execution_count": null,
   "id": "3c6c163d-5be5-4ed3-ad5d-4b0e7fdca575",
   "metadata": {},
   "outputs": [],
   "source": []
  },
  {
   "cell_type": "code",
   "execution_count": null,
   "id": "779fb8df-1e3c-4b77-b136-cf497625afad",
   "metadata": {},
   "outputs": [],
   "source": []
  },
  {
   "cell_type": "code",
   "execution_count": null,
   "id": "6835c62d-c89a-4180-905a-23f140743284",
   "metadata": {},
   "outputs": [],
   "source": []
  },
  {
   "cell_type": "code",
   "execution_count": null,
   "id": "b2dbb245-c527-4bc1-b668-c0a5521a1454",
   "metadata": {},
   "outputs": [],
   "source": []
  }
 ],
 "metadata": {
  "kernelspec": {
   "display_name": "Python 3 (ipykernel)",
   "language": "python",
   "name": "python3"
  },
  "language_info": {
   "codemirror_mode": {
    "name": "ipython",
    "version": 3
   },
   "file_extension": ".py",
   "mimetype": "text/x-python",
   "name": "python",
   "nbconvert_exporter": "python",
   "pygments_lexer": "ipython3",
   "version": "3.11.7"
  }
 },
 "nbformat": 4,
 "nbformat_minor": 5
}
