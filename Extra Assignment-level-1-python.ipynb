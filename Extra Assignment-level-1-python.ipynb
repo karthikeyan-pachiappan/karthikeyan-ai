{
 "cells": [
  {
   "cell_type": "code",
   "execution_count": 1,
   "id": "e77a326d-eaaf-438b-a28e-c89a6a162c1f",
   "metadata": {},
   "outputs": [
    {
     "name": "stdout",
     "output_type": "stream",
     "text": [
      "HOPE AI\n"
     ]
    }
   ],
   "source": [
    "print(\"HOPE AI\")"
   ]
  },
  {
   "cell_type": "code",
   "execution_count": 3,
   "id": "e58fcd69-92e3-42fb-baf2-3c56f36e06a2",
   "metadata": {},
   "outputs": [
    {
     "name": "stdin",
     "output_type": "stream",
     "text": [
      "Enter your institute name? : HOPE AI\n"
     ]
    }
   ],
   "source": [
    "name=input(\"Enter your institute name? :\")"
   ]
  },
  {
   "cell_type": "code",
   "execution_count": 4,
   "id": "ec29d093-fe29-4375-b94f-a9c525f5f9cf",
   "metadata": {},
   "outputs": [
    {
     "name": "stdin",
     "output_type": "stream",
     "text": [
      "Enter your name : Raj\n",
      "Enter your age : 15\n",
      "Enter your school name : Guru school\n",
      "Enter your degree: B.E CSE\n"
     ]
    },
    {
     "name": "stdout",
     "output_type": "stream",
     "text": [
      "Name : Raj\n",
      "Age : 15\n",
      "School : Guru school\n",
      "degree : B.E CSE\n"
     ]
    }
   ],
   "source": [
    "name=input(\"Enter your name :\")\n",
    "age=int(input(\"Enter your age :\"))\n",
    "school=input(\"Enter your school name :\")\n",
    "degree=input(\"Enter your degree:\")\n",
    "print(\"Name :\",name)\n",
    "print(\"Age :\",age)\n",
    "print(\"School :\",school)\n",
    "print(\"degree :\",degree)\n",
    "\n"
   ]
  },
  {
   "cell_type": "code",
   "execution_count": 5,
   "id": "bf0f3a98-8a32-4cef-ad1f-f322604dd284",
   "metadata": {},
   "outputs": [
    {
     "name": "stdout",
     "output_type": "stream",
     "text": [
      "a= 43\n",
      "b= 34\n",
      "Add = 77\n"
     ]
    }
   ],
   "source": [
    "a=43\n",
    "b=34\n",
    "print(\"a=\",a)\n",
    "print(\"b=\",b)\n",
    "print(\"Add =\",a+b)"
   ]
  },
  {
   "cell_type": "code",
   "execution_count": 6,
   "id": "7ace89f6-a91f-4fb8-b820-31a8a8cf3d3b",
   "metadata": {},
   "outputs": [
    {
     "name": "stdout",
     "output_type": "stream",
     "text": [
      "a= 43\n",
      "b= 34\n",
      "Sub = 9\n"
     ]
    }
   ],
   "source": [
    "a=43\n",
    "b=34\n",
    "print(\"a=\",a)\n",
    "print(\"b=\",b)\n",
    "print(\"Sub =\",a-b)"
   ]
  },
  {
   "cell_type": "code",
   "execution_count": 7,
   "id": "f28a5de9-30c3-483f-8d49-69db358c45ab",
   "metadata": {},
   "outputs": [
    {
     "name": "stdout",
     "output_type": "stream",
     "text": [
      "a= 63\n",
      "b= 97\n",
      "Mul = 6111\n"
     ]
    }
   ],
   "source": [
    "a=63\n",
    "b=97\n",
    "print(\"a=\",a)\n",
    "print(\"b=\",b)\n",
    "print(\"Mul =\",a*b)"
   ]
  },
  {
   "cell_type": "code",
   "execution_count": 8,
   "id": "c709b6c9-0727-43f7-9607-9a6ca03617e2",
   "metadata": {},
   "outputs": [
    {
     "name": "stdout",
     "output_type": "stream",
     "text": [
      "a= 76\n",
      "b= 31\n",
      "Float Div = 2.4516129032258065\n"
     ]
    }
   ],
   "source": [
    "a=76\n",
    "b=31\n",
    "print(\"a=\",a)\n",
    "print(\"b=\",b)\n",
    "print(\"Float Div =\",a/b)"
   ]
  },
  {
   "cell_type": "code",
   "execution_count": 9,
   "id": "f78cd5bc-9959-45a0-8cd3-879ceb0c21ef",
   "metadata": {},
   "outputs": [
    {
     "name": "stdout",
     "output_type": "stream",
     "text": [
      "a= 76\n",
      "b= 31\n",
      "Floor Div = 2\n"
     ]
    }
   ],
   "source": [
    "a=76\n",
    "b=31\n",
    "print(\"a=\",a)\n",
    "print(\"b=\",b)\n",
    "print(\"Floor Div =\",a//b)"
   ]
  },
  {
   "cell_type": "code",
   "execution_count": 10,
   "id": "856c4889-9dbd-4208-bb68-43194cd166ae",
   "metadata": {},
   "outputs": [
    {
     "name": "stdout",
     "output_type": "stream",
     "text": [
      "a= 76\n",
      "b= 31\n",
      "Modulo = 14\n"
     ]
    }
   ],
   "source": [
    "a=76\n",
    "b=31\n",
    "print(\"a=\",a)\n",
    "print(\"b=\",b)\n",
    "print(\"Modulo =\",a%b)"
   ]
  },
  {
   "cell_type": "code",
   "execution_count": 11,
   "id": "da6752b5-7be3-4a35-b6f3-3ff83e679681",
   "metadata": {},
   "outputs": [
    {
     "name": "stdout",
     "output_type": "stream",
     "text": [
      "a= 4\n",
      "b= 4\n",
      "Power = 256\n"
     ]
    }
   ],
   "source": [
    "a=4\n",
    "b=4\n",
    "print(\"a=\",a)\n",
    "print(\"b=\",b)\n",
    "print(\"Power =\",a**b)"
   ]
  },
  {
   "cell_type": "code",
   "execution_count": 13,
   "id": "7bece584-a7f7-48df-b6d5-5f83da82ad98",
   "metadata": {},
   "outputs": [
    {
     "name": "stdout",
     "output_type": "stream",
     "text": [
      "a= 4\n",
      "b= 4\n",
      "Power = 256\n"
     ]
    }
   ],
   "source": [
    "# Using Power Function\n",
    "a=4\n",
    "b=4\n",
    "power=pow(a,b)\n",
    "print(\"a=\",a)\n",
    "print(\"b=\",b)\n",
    "print(\"Power =\",power)"
   ]
  },
  {
   "cell_type": "code",
   "execution_count": null,
   "id": "13793b2d-75fe-4e6e-8bbf-7eaa541950fe",
   "metadata": {},
   "outputs": [],
   "source": []
  },
  {
   "cell_type": "code",
   "execution_count": null,
   "id": "48be4367-c607-4af4-9f4f-09b71f69c7ae",
   "metadata": {},
   "outputs": [],
   "source": []
  },
  {
   "cell_type": "code",
   "execution_count": null,
   "id": "925db661-d529-4722-9c43-3fc8800ea840",
   "metadata": {},
   "outputs": [],
   "source": []
  }
 ],
 "metadata": {
  "kernelspec": {
   "display_name": "Python 3 (ipykernel)",
   "language": "python",
   "name": "python3"
  },
  "language_info": {
   "codemirror_mode": {
    "name": "ipython",
    "version": 3
   },
   "file_extension": ".py",
   "mimetype": "text/x-python",
   "name": "python",
   "nbconvert_exporter": "python",
   "pygments_lexer": "ipython3",
   "version": "3.11.7"
  }
 },
 "nbformat": 4,
 "nbformat_minor": 5
}
