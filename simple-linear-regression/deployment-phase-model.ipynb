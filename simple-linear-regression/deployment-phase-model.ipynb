{
 "cells": [
  {
   "cell_type": "code",
   "execution_count": 6,
   "id": "22a1be50-87bc-405a-8a8b-874a23a7b6b5",
   "metadata": {},
   "outputs": [
    {
     "name": "stdin",
     "output_type": "stream",
     "text": [
      "Enter YearsExperience: 12\n"
     ]
    },
    {
     "name": "stdout",
     "output_type": "stream",
     "text": [
      "The Salary prediction for 12 years experience is: [[139100.52677552]]\n"
     ]
    },
    {
     "name": "stderr",
     "output_type": "stream",
     "text": [
      "C:\\Karthi\\AI\\Python\\Lib\\site-packages\\sklearn\\base.py:439: UserWarning: X does not have valid feature names, but LinearRegression was fitted with feature names\n",
      "  warnings.warn(\n"
     ]
    }
   ],
   "source": [
    "import pickle\n",
    "load_model=pickle.load(open(\"finalized_model_linear.sav\",'rb'))\n",
    "ye=int(input(\"Enter YearsExperience:\"))\n",
    "result=load_model.predict([[ye]])\n",
    "print(\"The Salary prediction for\",ye,\"years experience is:\",result)"
   ]
  },
  {
   "cell_type": "code",
   "execution_count": null,
   "id": "512bfa4b-a3f2-49de-a39e-be816aa286b8",
   "metadata": {},
   "outputs": [],
   "source": []
  }
 ],
 "metadata": {
  "kernelspec": {
   "display_name": "Python 3 (ipykernel)",
   "language": "python",
   "name": "python3"
  },
  "language_info": {
   "codemirror_mode": {
    "name": "ipython",
    "version": 3
   },
   "file_extension": ".py",
   "mimetype": "text/x-python",
   "name": "python",
   "nbconvert_exporter": "python",
   "pygments_lexer": "ipython3",
   "version": "3.11.7"
  }
 },
 "nbformat": 4,
 "nbformat_minor": 5
}
